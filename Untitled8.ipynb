{
  "nbformat": 4,
  "nbformat_minor": 0,
  "metadata": {
    "colab": {
      "name": "Untitled8.ipynb",
      "provenance": []
    },
    "kernelspec": {
      "name": "python3",
      "display_name": "Python 3"
    },
    "language_info": {
      "name": "python"
    }
  },
  "cells": [
    {
      "cell_type": "code",
      "execution_count": 69,
      "metadata": {
        "colab": {
          "base_uri": "https://localhost:8080/"
        },
        "id": "_7-ZjhQuXx6N",
        "outputId": "891aa8fe-1b3f-42be-8e8f-892db5cfc3f5"
      },
      "outputs": [
        {
          "output_type": "stream",
          "name": "stdout",
          "text": [
            "429\n",
            "429\n",
            "429\n",
            "429\n",
            "429\n",
            "429\n",
            "429\n"
          ]
        }
      ],
      "source": [
        "from bs4 import BeautifulSoup\n",
        "import requests\n",
        "import csv\n",
        "import time\n",
        "import pandas as pd\n",
        "\n",
        "\n",
        "headers = {\"User-Agent\": \"Mozilla/5.0 (Windows NT 10.0; Win64; x64) AppleWebKit/537.36 (KHTML, like Gecko) Chrome/71.0.3578.98 Safari/537.36\"}\n",
        "urls = [\"https://scholar.google.com/scholar?as_ylo=2021&q=Innopolis+University&hl=en&as_sdt=0,5\",\n",
        "        \"https://scholar.google.com/scholar?start=10&q=Innopolis+University&hl=en&as_sdt=0,5&as_ylo=2021\",\n",
        "        \"https://scholar.google.com/scholar?start=20&q=Innopolis+University&hl=en&as_sdt=0,5&as_ylo=2021\",\n",
        "        \"https://scholar.google.com/scholar?start=30&q=Innopolis+University&hl=en&as_sdt=0,5&as_ylo=2021\",\n",
        "        \"https://scholar.google.com/scholar?start=40&q=Innopolis+University&hl=en&as_sdt=0,5&as_ylo=2021\",\n",
        "        \"https://scholar.google.com/scholar?start=50&q=Innopolis+University&hl=en&as_sdt=0,5&as_ylo=2021\",\n",
        "        \"https://scholar.google.com/scholar?start=60&q=Innopolis+University&hl=en&as_sdt=0,5&as_ylo=2021\"]\n",
        "\n",
        "authors = []\n",
        "links = []\n",
        "titles = []\n",
        "keywords = []\n",
        "\n",
        "for url in urls:\n",
        "  response = requests.get(url, headers = headers)\n",
        "  \n",
        "  print(response.status_code)\n",
        "  soup = BeautifulSoup(response.content, \"html.parser\")\n",
        "  for item in soup.select('[data-lid]'):\n",
        "    #print(1)\n",
        "    try:\n",
        "        print(item)\n",
        "        titles.append(item.select('h3')[0].get_text())\n",
        "        author = item.select('.gs_a')[0].get_text()\n",
        "        author = author.split(\"-\")\n",
        "        author = author[0].replace(u'\\xa0', u' ')\n",
        "        authors.append(author[0])\n",
        "        keyword = item.select('.gs_rs')[0].get_text()\n",
        "        keywordList = keyword.split(\",\")\n",
        "        keywords.append(keywordList)\n",
        "        \n",
        "        \n",
        "        link = item.select('a')[0]['href']\n",
        "        links.append(str(\"=HYPERLINK(\" + \"\\\"\" + (link) +  \"\\\"\" + \")\"))\n",
        "    except Exception as e:\n",
        "        print('error')\n",
        "  \n",
        "\n",
        "\n"
      ]
    },
    {
      "cell_type": "code",
      "source": [
        "\n",
        "paper_dict = {\n",
        "    'paper title ' : titles,\n",
        "    'authors' : authors,\n",
        "    'url of paper' : links\n",
        "}"
      ],
      "metadata": {
        "id": "WOJAPYp2YOjl"
      },
      "execution_count": 53,
      "outputs": []
    },
    {
      "cell_type": "code",
      "source": [
        "papers_df = pd.DataFrame(paper_dict)"
      ],
      "metadata": {
        "id": "sY3JT-TSYPyl"
      },
      "execution_count": 54,
      "outputs": []
    },
    {
      "cell_type": "code",
      "source": [
        "papers_df"
      ],
      "metadata": {
        "id": "LK5TLRzLYcCo",
        "colab": {
          "base_uri": "https://localhost:8080/",
          "height": 419
        },
        "outputId": "a85170f3-4f54-4615-f683-23e5f6fd889e"
      },
      "execution_count": 55,
      "outputs": [
        {
          "output_type": "execute_result",
          "data": {
            "text/html": [
              "<div>\n",
              "<style scoped>\n",
              "    .dataframe tbody tr th:only-of-type {\n",
              "        vertical-align: middle;\n",
              "    }\n",
              "\n",
              "    .dataframe tbody tr th {\n",
              "        vertical-align: top;\n",
              "    }\n",
              "\n",
              "    .dataframe thead th {\n",
              "        text-align: right;\n",
              "    }\n",
              "</style>\n",
              "<table border=\"1\" class=\"dataframe\">\n",
              "  <thead>\n",
              "    <tr style=\"text-align: right;\">\n",
              "      <th></th>\n",
              "      <th>paper title</th>\n",
              "      <th>authors</th>\n",
              "      <th>url of paper</th>\n",
              "    </tr>\n",
              "  </thead>\n",
              "  <tbody>\n",
              "    <tr>\n",
              "      <th>0</th>\n",
              "      <td>Overcoming metric diversity in meta-analysis f...</td>\n",
              "      <td>K Daniakin</td>\n",
              "      <td>=HYPERLINK(\"https://dl.acm.org/doi/abs/10.1145...</td>\n",
              "    </tr>\n",
              "    <tr>\n",
              "      <th>1</th>\n",
              "      <td>Efficiency and fatigue in marksmanship training</td>\n",
              "      <td>V Grubov, A Badarin, A Savosenkov…</td>\n",
              "      <td>=HYPERLINK(\"https://ieeexplore.ieee.org/abstra...</td>\n",
              "    </tr>\n",
              "    <tr>\n",
              "      <th>2</th>\n",
              "      <td>[PDF][PDF] Trajectory Tracking For Quadrotors:...</td>\n",
              "      <td>G Kulathunga, D Devitt, A Klimchik</td>\n",
              "      <td>=HYPERLINK(\"https://www.researchsquare.com/art...</td>\n",
              "    </tr>\n",
              "    <tr>\n",
              "      <th>3</th>\n",
              "      <td>Snakes AI Competition 2020 and 2021 Report</td>\n",
              "      <td>JA Brown, LJP de Araújo, A Grichshenko</td>\n",
              "      <td>=HYPERLINK(\"https://arxiv.org/pdf/2108.05136\")</td>\n",
              "    </tr>\n",
              "    <tr>\n",
              "      <th>4</th>\n",
              "      <td>Convolutional Neural Network and Adversarial A...</td>\n",
              "      <td>A Nasybullin, S Kurkin</td>\n",
              "      <td>=HYPERLINK(\"https://ieeexplore.ieee.org/abstra...</td>\n",
              "    </tr>\n",
              "    <tr>\n",
              "      <th>...</th>\n",
              "      <td>...</td>\n",
              "      <td>...</td>\n",
              "      <td>...</td>\n",
              "    </tr>\n",
              "    <tr>\n",
              "      <th>65</th>\n",
              "      <td>[PDF][PDF] High Resolution GAN in Tensorflow</td>\n",
              "      <td>S Badour</td>\n",
              "      <td>=HYPERLINK(\"https://www.researchgate.net/profi...</td>\n",
              "    </tr>\n",
              "    <tr>\n",
              "      <th>66</th>\n",
              "      <td>Estimating integrated information in bidirecti...</td>\n",
              "      <td>L Abrego, S Gordleeva, O Kanakov, M Krivonosov…</td>\n",
              "      <td>=HYPERLINK(\"https://discovery.ucl.ac.uk/id/epr...</td>\n",
              "    </tr>\n",
              "    <tr>\n",
              "      <th>67</th>\n",
              "      <td>[PDF][PDF] A Case Study on Combining Agile and...</td>\n",
              "      <td>Y Pakhtusova, S Megha, N Askarbekuly</td>\n",
              "      <td>=HYPERLINK(\"https://www.researchgate.net/profi...</td>\n",
              "    </tr>\n",
              "    <tr>\n",
              "      <th>68</th>\n",
              "      <td>Mixing adaptive rules in a bilayer Erdős-Rényi...</td>\n",
              "      <td>N Frolov, D Ghosh</td>\n",
              "      <td>=HYPERLINK(\"https://ieeexplore.ieee.org/abstra...</td>\n",
              "    </tr>\n",
              "    <tr>\n",
              "      <th>69</th>\n",
              "      <td>Security Requirements as Code: Example from Ve...</td>\n",
              "      <td>K Ismaeel, A Naumchev, A Sadovykh…</td>\n",
              "      <td>=HYPERLINK(\"https://ieeexplore.ieee.org/abstra...</td>\n",
              "    </tr>\n",
              "  </tbody>\n",
              "</table>\n",
              "<p>70 rows × 3 columns</p>\n",
              "</div>"
            ],
            "text/plain": [
              "                                         paper title   ...                                       url of paper\n",
              "0   Overcoming metric diversity in meta-analysis f...  ...  =HYPERLINK(\"https://dl.acm.org/doi/abs/10.1145...\n",
              "1     Efficiency and fatigue in marksmanship training  ...  =HYPERLINK(\"https://ieeexplore.ieee.org/abstra...\n",
              "2   [PDF][PDF] Trajectory Tracking For Quadrotors:...  ...  =HYPERLINK(\"https://www.researchsquare.com/art...\n",
              "3          Snakes AI Competition 2020 and 2021 Report  ...     =HYPERLINK(\"https://arxiv.org/pdf/2108.05136\")\n",
              "4   Convolutional Neural Network and Adversarial A...  ...  =HYPERLINK(\"https://ieeexplore.ieee.org/abstra...\n",
              "..                                                ...  ...                                                ...\n",
              "65       [PDF][PDF] High Resolution GAN in Tensorflow  ...  =HYPERLINK(\"https://www.researchgate.net/profi...\n",
              "66  Estimating integrated information in bidirecti...  ...  =HYPERLINK(\"https://discovery.ucl.ac.uk/id/epr...\n",
              "67  [PDF][PDF] A Case Study on Combining Agile and...  ...  =HYPERLINK(\"https://www.researchgate.net/profi...\n",
              "68  Mixing adaptive rules in a bilayer Erdős-Rényi...  ...  =HYPERLINK(\"https://ieeexplore.ieee.org/abstra...\n",
              "69  Security Requirements as Code: Example from Ve...  ...  =HYPERLINK(\"https://ieeexplore.ieee.org/abstra...\n",
              "\n",
              "[70 rows x 3 columns]"
            ]
          },
          "metadata": {},
          "execution_count": 55
        }
      ]
    },
    {
      "cell_type": "code",
      "source": [
        "authors"
      ],
      "metadata": {
        "id": "zjbahEZVYhBD",
        "colab": {
          "base_uri": "https://localhost:8080/"
        },
        "outputId": "42d7bfc8-9dc5-4012-e3a5-01803d208eb3"
      },
      "execution_count": 56,
      "outputs": [
        {
          "output_type": "execute_result",
          "data": {
            "text/plain": [
              "['K Daniakin\\xa0',\n",
              " 'V Grubov, A Badarin, A Savosenkov…\\xa0',\n",
              " 'G Kulathunga, D Devitt, A Klimchik ',\n",
              " 'JA Brown, LJP de Araújo, A Grichshenko\\xa0',\n",
              " 'A Nasybullin, S Kurkin\\xa0',\n",
              " 'A Badarin, N Smirnov, S Kurkin\\xa0',\n",
              " 'S Bakkes, F Balducci, JT Balint, C Bamford, F Banterle… ',\n",
              " 'CM Awais, IEI Bekkouch\\xa0',\n",
              " 'D Ashlock, JA Brown, S Houghten…\\xa0',\n",
              " 'V Makarov, V Grubov, S Kurkin…\\xa0',\n",
              " 'S Bobiev, A Khan, SMAR Kazmi\\xa0',\n",
              " 'PJ Kenfack, AM Khan, R Hussain, SM Kazmi\\xa0',\n",
              " 'F Atif, M Rodriguez, LJP Araújo, U Amartiwi…\\xa0',\n",
              " 'A Khusainova, A Khan, AR Rivera…\\xa0',\n",
              " 'I Kastalskiy, Y Tsybina, V Kazantsev…\\xa0',\n",
              " 'H Park, K Bae\\xa0',\n",
              " 'F Goodarzian, A Abraham, P Ghasemi…\\xa0',\n",
              " 'A Bogdanova\\xa0',\n",
              " 'N Frolov, E Pitsik\\xa0',\n",
              " 'E Pitsik, N Frolov\\xa0',\n",
              " 'V Antipov, A Badarin\\xa0',\n",
              " 'MS Kabir, IK Ndukwe, EZS Awan\\xa0',\n",
              " 'MF Lensink, G Brysbaert, T Mauri…\\xa0',\n",
              " 'V Khorev, VB Kazantsev\\xa0',\n",
              " 'H Aslam, A Naumchev, JM Bruel…\\xa0',\n",
              " 'YL Karavaev, AV Klekovkin…\\xa0',\n",
              " 'A Kuc\\xa0',\n",
              " 'Z Kholmatova ',\n",
              " 'PJ Kenfack, DD Arapovy, R Hussain, SM Kazmi…\\xa0',\n",
              " 'RA Boby, A Maloletov, A Klimchik\\xa0',\n",
              " 'R Islam\\xa0',\n",
              " 'MV Khramova, AK Kuc, VA Maksimenko…\\xa0',\n",
              " 'VN Kolpakov, YI Pigareva, AA Gladkov…\\xa0',\n",
              " 'A Chepurova, S Kurkin\\xa0',\n",
              " 'V Shcherba, R Hussain\\xa0',\n",
              " 'T Ritter, SG Köse, F Başak, T Hossain, NA Day, Z Qi ',\n",
              " 'BIE Ibrahim, DC Nicolae, A Khan…\\xa0',\n",
              " 'PJ Kenfack, AM Khan, SMA Kazmi…\\xa0',\n",
              " 'D Taibi, V Lenarduzzi, T Kilamo, S Zacchiroli ',\n",
              " 'G Baye, F Hussain, A Oracevic, R Hussain…\\xa0',\n",
              " 'J Feng, S Halder, MM Hassan, MA Hoque, A Jolfaei… ',\n",
              " 'M Naumcheva\\xa0',\n",
              " 'C Rios',\n",
              " 'A Thapaliya, R Amirova, S Busechian…\\xa0',\n",
              " 'S Pal\\xa0',\n",
              " 'BJ Akinsanya, LJP Araújo, M Charikova…\\xa0',\n",
              " 'MH Ali, MS Kabir\\xa0',\n",
              " 'Y Kholodov, A Alekseenko, V Kazorin, A Kurzhanskiy\\xa0',\n",
              " 'BJ Akinsanya, M Mazzara ',\n",
              " 'A Gladkov, Y Pigareva, V Kolpakov…\\xa0',\n",
              " 'A Lebedeva, S Gerasimova, A Fedulina…\\xa0',\n",
              " 'MR Bahrami\\xa0',\n",
              " 'ЕИ ШАЮК, ТК ЧЕРНЫШЕВА\\xa0',\n",
              " 'A ElBatanony, G Succi\\xa0',\n",
              " 'M Ostanin, R Yagfarov, D Devitt…\\xa0',\n",
              " 'SA Lobov, NP Krilova, VA Makarov…\\xa0',\n",
              " 'SS Singh, SR Sarangi, S Mitra, D Banerjee, V Tyagi… ',\n",
              " 'A ElBatanony, G Succi\\xa0',\n",
              " 'L Bellatreche, G Chernishev, A Corral, S Ouchani… ',\n",
              " 'NM Smirnov, S Kurkin\\xa0',\n",
              " 'F Galeev, M Leushina, V Ivanov ',\n",
              " 'S Kurkin, A Badarin, V Grubov, V Maksimenko…\\xa0',\n",
              " 'S Korchagin, V Maksimenko…\\xa0',\n",
              " 'S Makovkin, S Gordleeva…\\xa0',\n",
              " 'A Pisarchik\\xa0',\n",
              " 'S Badour\\xa0',\n",
              " 'L Abrego, S Gordleeva, O Kanakov, M Krivonosov…\\xa0',\n",
              " 'Y Pakhtusova, S Megha, N Askarbekuly ',\n",
              " 'N Frolov, D Ghosh\\xa0',\n",
              " 'K Ismaeel, A Naumchev, A Sadovykh…\\xa0']"
            ]
          },
          "metadata": {},
          "execution_count": 56
        }
      ]
    }
  ]
}